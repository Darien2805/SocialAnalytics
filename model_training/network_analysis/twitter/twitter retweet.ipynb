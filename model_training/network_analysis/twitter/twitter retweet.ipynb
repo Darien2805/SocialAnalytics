{
 "cells": [
  {
   "cell_type": "code",
   "execution_count": 1,
   "metadata": {},
   "outputs": [],
   "source": [
    "import tweepy\n",
    "import pandas as pd\n",
    "import matplotlib.pyplot as plt"
   ]
  },
  {
   "cell_type": "code",
   "execution_count": 2,
   "metadata": {},
   "outputs": [],
   "source": [
    "CONSUMER_KEY = \"pBLoazfzVHC6KEtjWujc3BQZH\"\n",
    "CONSUMER_SECRET = \"62gsKm50t5p4WboCxjyCDhtXcFuaZaDRUc2Y55CrvAlZgGtbUi\"\n",
    "ACCESS_TOKEN_KEY = \"1565145648214659072-DlVkq5zmYtVSrWqJrDjsg4LVSk5SYX\"\n",
    "ACCESS_TOKEN_SECRET = \"plT89r9QT5JLVB4o7Q1pxvHujhfOFx7L2CxMOOPSTOJ6Q\""
   ]
  },
  {
   "cell_type": "code",
   "execution_count": 3,
   "metadata": {},
   "outputs": [],
   "source": [
    "auth = tweepy.OAuthHandler(CONSUMER_KEY, CONSUMER_SECRET)\n",
    "auth.set_access_token(ACCESS_TOKEN_KEY, ACCESS_TOKEN_SECRET)\n",
    "api = tweepy.API(auth, wait_on_rate_limit=True)"
   ]
  },
  {
   "cell_type": "code",
   "execution_count": 4,
   "metadata": {},
   "outputs": [],
   "source": [
    "userID = \"delltechcareers\"\n",
    "tweets = api.user_timeline(screen_name=userID, \n",
    "                           # 200 is the maximum allowed count\n",
    "                           count=200,\n",
    "                           include_rts = False,\n",
    "                           # Necessary to keep full_text \n",
    "                           # otherwise only the first 140 words are extracted\n",
    "                           tweet_mode = 'extended'\n",
    "                           )\n",
    "tweets_id = []\n",
    "for tweet in tweets:\n",
    "    tweets_id.append(tweet.id_str)"
   ]
  },
  {
   "cell_type": "code",
   "execution_count": 5,
   "metadata": {},
   "outputs": [
    {
     "name": "stderr",
     "output_type": "stream",
     "text": [
      "Rate limit reached. Sleeping for: 673\n",
      "Rate limit reached. Sleeping for: 876\n",
      "Rate limit reached. Sleeping for: 877\n"
     ]
    }
   ],
   "source": [
    "retweets_id = []\n",
    "for id in tweets_id:\n",
    "    retweets = api.get_retweets(id, count=100)\n",
    "    for retweet in retweets:\n",
    "        with (open(\"retweets_id.txt\", \"a\")) as f:\n",
    "            f.write(str(retweet.user.screen_name) + '\\n')\n"
   ]
  },
  {
   "cell_type": "code",
   "execution_count": 14,
   "metadata": {},
   "outputs": [
    {
     "data": {
      "text/html": [
       "<div>\n",
       "<style scoped>\n",
       "    .dataframe tbody tr th:only-of-type {\n",
       "        vertical-align: middle;\n",
       "    }\n",
       "\n",
       "    .dataframe tbody tr th {\n",
       "        vertical-align: top;\n",
       "    }\n",
       "\n",
       "    .dataframe thead th {\n",
       "        text-align: right;\n",
       "    }\n",
       "</style>\n",
       "<table border=\"1\" class=\"dataframe\">\n",
       "  <thead>\n",
       "    <tr style=\"text-align: right;\">\n",
       "      <th></th>\n",
       "      <th>user</th>\n",
       "    </tr>\n",
       "  </thead>\n",
       "  <tbody>\n",
       "    <tr>\n",
       "      <th>fleejack</th>\n",
       "      <td>145</td>\n",
       "    </tr>\n",
       "    <tr>\n",
       "      <th>Race2Diversity</th>\n",
       "      <td>135</td>\n",
       "    </tr>\n",
       "    <tr>\n",
       "      <th>VGrunler</th>\n",
       "      <td>52</td>\n",
       "    </tr>\n",
       "    <tr>\n",
       "      <th>McInnisCheryl</th>\n",
       "      <td>13</td>\n",
       "    </tr>\n",
       "    <tr>\n",
       "      <th>eblake44</th>\n",
       "      <td>11</td>\n",
       "    </tr>\n",
       "    <tr>\n",
       "      <th>CiselyW</th>\n",
       "      <td>10</td>\n",
       "    </tr>\n",
       "    <tr>\n",
       "      <th>LauraLAtDell</th>\n",
       "      <td>9</td>\n",
       "    </tr>\n",
       "    <tr>\n",
       "      <th>John_Howard2</th>\n",
       "      <td>9</td>\n",
       "    </tr>\n",
       "    <tr>\n",
       "      <th>Cass_Garber</th>\n",
       "      <td>7</td>\n",
       "    </tr>\n",
       "    <tr>\n",
       "      <th>manuLrios</th>\n",
       "      <td>7</td>\n",
       "    </tr>\n",
       "    <tr>\n",
       "      <th>Paige_Eckhart</th>\n",
       "      <td>6</td>\n",
       "    </tr>\n",
       "    <tr>\n",
       "      <th>MbaDhandapani</th>\n",
       "      <td>5</td>\n",
       "    </tr>\n",
       "    <tr>\n",
       "      <th>BalajiGurudoss</th>\n",
       "      <td>4</td>\n",
       "    </tr>\n",
       "    <tr>\n",
       "      <th>RawlsCMC</th>\n",
       "      <td>4</td>\n",
       "    </tr>\n",
       "    <tr>\n",
       "      <th>NandaVinu</th>\n",
       "      <td>4</td>\n",
       "    </tr>\n",
       "    <tr>\n",
       "      <th>slutty_rekha</th>\n",
       "      <td>4</td>\n",
       "    </tr>\n",
       "    <tr>\n",
       "      <th>EAhumadaR</th>\n",
       "      <td>3</td>\n",
       "    </tr>\n",
       "    <tr>\n",
       "      <th>gabrielavbello</th>\n",
       "      <td>3</td>\n",
       "    </tr>\n",
       "    <tr>\n",
       "      <th>Williams25Sarah</th>\n",
       "      <td>3</td>\n",
       "    </tr>\n",
       "    <tr>\n",
       "      <th>DellTech</th>\n",
       "      <td>3</td>\n",
       "    </tr>\n",
       "    <tr>\n",
       "      <th>LaetitiaCousi</th>\n",
       "      <td>2</td>\n",
       "    </tr>\n",
       "    <tr>\n",
       "      <th>ElAlejoGarciaL</th>\n",
       "      <td>2</td>\n",
       "    </tr>\n",
       "    <tr>\n",
       "      <th>SCagiga</th>\n",
       "      <td>2</td>\n",
       "    </tr>\n",
       "    <tr>\n",
       "      <th>chiodp</th>\n",
       "      <td>2</td>\n",
       "    </tr>\n",
       "    <tr>\n",
       "      <th>kisamo_emmanuel</th>\n",
       "      <td>2</td>\n",
       "    </tr>\n",
       "  </tbody>\n",
       "</table>\n",
       "</div>"
      ],
      "text/plain": [
       "                 user\n",
       "fleejack          145\n",
       "Race2Diversity    135\n",
       "VGrunler           52\n",
       "McInnisCheryl      13\n",
       "eblake44           11\n",
       "CiselyW            10\n",
       "LauraLAtDell        9\n",
       "John_Howard2        9\n",
       "Cass_Garber         7\n",
       "manuLrios           7\n",
       "Paige_Eckhart       6\n",
       "MbaDhandapani       5\n",
       "BalajiGurudoss      4\n",
       "RawlsCMC            4\n",
       "NandaVinu           4\n",
       "slutty_rekha        4\n",
       "EAhumadaR           3\n",
       "gabrielavbello      3\n",
       "Williams25Sarah     3\n",
       "DellTech            3\n",
       "LaetitiaCousi       2\n",
       "ElAlejoGarciaL      2\n",
       "SCagiga             2\n",
       "chiodp              2\n",
       "kisamo_emmanuel     2"
      ]
     },
     "execution_count": 14,
     "metadata": {},
     "output_type": "execute_result"
    }
   ],
   "source": [
    "df = pd.read_csv(\"retweets_id.txt\")\n",
    "df.columns = [\"user\"]\n",
    "new_id = pd.DataFrame(df['user'].value_counts().head(25))\n",
    "new_id"
   ]
  },
  {
   "cell_type": "code",
   "execution_count": 15,
   "metadata": {},
   "outputs": [],
   "source": [
    "tweets_id = []\n",
    "for userID in new_id.index:\n",
    "    tweets = api.user_timeline(screen_name=userID, \n",
    "                            #  is the maximum allowed count\n",
    "                            count=25,\n",
    "                            include_rts = False,\n",
    "                            # Necessary to keep full_text \n",
    "                            # otherwise only the first 140 words are extracted\n",
    "                            tweet_mode = 'extended'\n",
    "                            )\n",
    "\n",
    "    for tweet in tweets:\n",
    "        tweets_id.append(tweet.id_str)"
   ]
  },
  {
   "cell_type": "code",
   "execution_count": 16,
   "metadata": {},
   "outputs": [
    {
     "name": "stderr",
     "output_type": "stream",
     "text": [
      "Rate limit reached. Sleeping for: 308\n",
      "Rate limit reached. Sleeping for: 880\n",
      "Rate limit reached. Sleeping for: 880\n",
      "Rate limit reached. Sleeping for: 880\n"
     ]
    }
   ],
   "source": [
    "retweets_id = []\n",
    "for id in tweets_id:\n",
    "    retweets = api.get_retweets(id, count=100)\n",
    "    for retweet in retweets:\n",
    "        with (open(\"retweets_id.txt\", \"a\")) as f:\n",
    "            f.write(str(retweet.user.screen_name) + '\\n')"
   ]
  }
 ],
 "metadata": {
  "kernelspec": {
   "display_name": "Python 3.10.6 64-bit",
   "language": "python",
   "name": "python3"
  },
  "language_info": {
   "codemirror_mode": {
    "name": "ipython",
    "version": 3
   },
   "file_extension": ".py",
   "mimetype": "text/x-python",
   "name": "python",
   "nbconvert_exporter": "python",
   "pygments_lexer": "ipython3",
   "version": "3.10.6"
  },
  "orig_nbformat": 4,
  "vscode": {
   "interpreter": {
    "hash": "369f2c481f4da34e4445cda3fffd2e751bd1c4d706f27375911949ba6bb62e1c"
   }
  }
 },
 "nbformat": 4,
 "nbformat_minor": 2
}
