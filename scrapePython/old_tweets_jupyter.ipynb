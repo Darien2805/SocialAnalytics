{
 "cells": [
  {
   "cell_type": "code",
   "execution_count": 1,
   "id": "5ddf5bc3",
   "metadata": {},
   "outputs": [
    {
     "name": "stdout",
     "output_type": "stream",
     "text": [
      "too many tweets\n",
      "               User              Date Created  Number of Likes  \\\n",
      "0           wchacon 2022-07-05 19:58:34+00:00                0   \n",
      "1       CaritauInfo 2022-07-05 19:05:01+00:00                0   \n",
      "2     InvestorIdeas 2022-07-05 16:10:02+00:00                0   \n",
      "3    delete75522330 2022-07-05 15:05:32+00:00                0   \n",
      "4        xiaojiuwo8 2022-07-05 14:07:29+00:00                0   \n",
      "..              ...                       ...              ...   \n",
      "496      ians_india 2019-10-02 10:47:52+00:00                0   \n",
      "497      smkamatchi 2019-10-02 09:31:38+00:00                1   \n",
      "498    hackJunction 2019-10-02 09:20:08+00:00                2   \n",
      "499    IndiaNews777 2019-10-02 06:10:03+00:00                0   \n",
      "500        lcdvirgo 2019-10-02 01:03:26+00:00                4   \n",
      "\n",
      "            Source of Tweet  \\\n",
      "0                   dlvr.it   \n",
      "1             WordPress.com   \n",
      "2                   dlvr.it   \n",
      "3           Twitter Web App   \n",
      "4           Twitter Web App   \n",
      "..                      ...   \n",
      "496          Hootsuite Inc.   \n",
      "497     Twitter for Android   \n",
      "498         Twitter Web App   \n",
      "499  IndiaNews777 auto post   \n",
      "500         Twitter Web App   \n",
      "\n",
      "                                                 Tweet   Feeling  \n",
      "0    Asia's Largest, Prized Hackathon Organised by ...  Positive  \n",
      "1    Hackathon Terbesar dan Berharga di Asia Disele...   Neutral  \n",
      "2    Asia's Largest, Prized Hackathon Organised by ...  Positive  \n",
      "3    Asia's Largest, Prized Hackathon Organised by ...  Positive  \n",
      "4    Asia's Largest, Prized Hackathon Organised by ...  Positive  \n",
      "..                                                 ...       ...  \n",
      "496  #Indian public broadcaster #PrasarBharati has ...  Negative  \n",
      "497  #TNWelcomesModi my heartiest welcome hon ble p...  Positive  \n",
      "498  Ever wonder what goes on in a #hackathon? Have...  Positive  \n",
      "499  PM Modi hails students for their efforts at Si...   Neutral  \n",
      "500  My story of what we built at the \\n@hackJuncti...  Negative  \n",
      "\n",
      "[501 rows x 6 columns]\n"
     ]
    }
   ],
   "source": [
    "import snscrape.modules.twitter as sntwitter\n",
    "import pandas as pd\n",
    "from vaderSentiment.vaderSentiment import SentimentIntensityAnalyzer\n",
    "\n",
    "sia = SentimentIntensityAnalyzer()\n",
    "\n",
    "\n",
    "# Creating list to append tweet data to\n",
    "attributes_container = []\n",
    "\n",
    "# Using TwitterSearchScraper to scrape data and append tweets to list\n",
    "for i,tweet in enumerate(sntwitter.TwitterSearchScraper('singapore hackathon since:2017-07-05 until:2022-07-06').get_items()):\n",
    "    if i>500:\n",
    "        print(\"too many tweets\")\n",
    "        break\n",
    "    sentiment = sia.polarity_scores(tweet.content)\n",
    "    if sentiment['compound'] >= 0.05 :\n",
    "        feeling = \"Positive\"\n",
    "    elif sentiment['compound'] <= - 0.05 :\n",
    "        feeling = \"Negative\"\n",
    "    else :\n",
    "        feeling = \"Neutral\"\n",
    "    attributes_container.append([tweet.user.username, tweet.date, tweet.likeCount, tweet.sourceLabel, tweet.content, feeling])\n",
    "    \n",
    "# Creating a dataframe to load the list\n",
    "\n",
    "tweets_df = pd.DataFrame(attributes_container, columns=[\"User\", \"Date Created\", \"Number of Likes\", \"Source of Tweet\", \"Tweet\", \"Feeling\"])\n",
    "print(tweets_df)\n",
    "tweets_df.to_csv('old_tweet.csv')"
   ]
  },
  {
   "cell_type": "code",
   "execution_count": null,
   "id": "836d2de2",
   "metadata": {},
   "outputs": [],
   "source": []
  }
 ],
 "metadata": {
  "kernelspec": {
   "display_name": "Python 3 (ipykernel)",
   "language": "python",
   "name": "python3"
  },
  "language_info": {
   "codemirror_mode": {
    "name": "ipython",
    "version": 3
   },
   "file_extension": ".py",
   "mimetype": "text/x-python",
   "name": "python",
   "nbconvert_exporter": "python",
   "pygments_lexer": "ipython3",
   "version": "3.9.12"
  }
 },
 "nbformat": 4,
 "nbformat_minor": 5
}
