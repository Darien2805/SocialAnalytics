{
 "cells": [
  {
   "cell_type": "code",
   "execution_count": 1,
   "metadata": {},
   "outputs": [],
   "source": [
    "import pandas as pd\n",
    "import nltk\n",
    "from nltk.corpus import stopwords\n",
    "from nltk.tokenize import word_tokenize\n",
    "from nltk.stem import WordNetLemmatizer\n",
    "import re"
   ]
  },
  {
   "cell_type": "code",
   "execution_count": 2,
   "metadata": {},
   "outputs": [
    {
     "data": {
      "text/html": [
       "<div>\n",
       "<style scoped>\n",
       "    .dataframe tbody tr th:only-of-type {\n",
       "        vertical-align: middle;\n",
       "    }\n",
       "\n",
       "    .dataframe tbody tr th {\n",
       "        vertical-align: top;\n",
       "    }\n",
       "\n",
       "    .dataframe thead th {\n",
       "        text-align: right;\n",
       "    }\n",
       "</style>\n",
       "<table border=\"1\" class=\"dataframe\">\n",
       "  <thead>\n",
       "    <tr style=\"text-align: right;\">\n",
       "      <th></th>\n",
       "      <th>Post</th>\n",
       "    </tr>\n",
       "  </thead>\n",
       "  <tbody>\n",
       "    <tr>\n",
       "      <th>0</th>\n",
       "      <td>Proud to announce that my team won the recogni...</td>\n",
       "    </tr>\n",
       "    <tr>\n",
       "      <th>1</th>\n",
       "      <td>In SCDF and Dell's Innovation Lifesavers' Inno...</td>\n",
       "    </tr>\n",
       "    <tr>\n",
       "      <th>2</th>\n",
       "      <td>I am proud to announce that my TEAM TAGAR came...</td>\n",
       "    </tr>\n",
       "    <tr>\n",
       "      <th>3</th>\n",
       "      <td>As part of Dell Technologies' initiatives in s...</td>\n",
       "    </tr>\n",
       "    <tr>\n",
       "      <th>4</th>\n",
       "      <td>My internship at Dell Technologies has been a ...</td>\n",
       "    </tr>\n",
       "  </tbody>\n",
       "</table>\n",
       "</div>"
      ],
      "text/plain": [
       "                                                Post\n",
       "0  Proud to announce that my team won the recogni...\n",
       "1  In SCDF and Dell's Innovation Lifesavers' Inno...\n",
       "2  I am proud to announce that my TEAM TAGAR came...\n",
       "3  As part of Dell Technologies' initiatives in s...\n",
       "4  My internship at Dell Technologies has been a ..."
      ]
     },
     "execution_count": 2,
     "metadata": {},
     "output_type": "execute_result"
    }
   ],
   "source": [
    "df = pd.read_csv('../../../scrapy-hackathon/webscrape/linkedin/linkedin_dell.csv', usecols=['Post'])\n",
    "df.head()"
   ]
  },
  {
   "cell_type": "code",
   "execution_count": 3,
   "metadata": {},
   "outputs": [],
   "source": [
    "lemma = WordNetLemmatizer()\n",
    "stop_words = stopwords.words('english')"
   ]
  },
  {
   "cell_type": "code",
   "execution_count": 4,
   "metadata": {},
   "outputs": [],
   "source": [
    "def text_prep(x):\n",
    "     corp = str(x).lower() \n",
    "     corp = re.sub('[^a-zA-Z]+',' ', corp).strip() \n",
    "     tokens = word_tokenize(corp)\n",
    "     words = [t for t in tokens if t not in stop_words]\n",
    "     lemmatize = [lemma.lemmatize(w) for w in words]\n",
    "    \n",
    "     return lemmatize"
   ]
  },
  {
   "cell_type": "code",
   "execution_count": 5,
   "metadata": {},
   "outputs": [
    {
     "name": "stderr",
     "output_type": "stream",
     "text": [
      "[nltk_data] Downloading package wordnet to\n",
      "[nltk_data]     C:\\Users\\ZY\\AppData\\Roaming\\nltk_data...\n",
      "[nltk_data]   Package wordnet is already up-to-date!\n",
      "[nltk_data] Downloading package omw-1.4 to\n",
      "[nltk_data]     C:\\Users\\ZY\\AppData\\Roaming\\nltk_data...\n",
      "[nltk_data]   Package omw-1.4 is already up-to-date!\n"
     ]
    },
    {
     "data": {
      "text/plain": [
       "True"
      ]
     },
     "execution_count": 5,
     "metadata": {},
     "output_type": "execute_result"
    }
   ],
   "source": [
    "nltk.download('wordnet')\n",
    "nltk.download('omw-1.4')"
   ]
  },
  {
   "cell_type": "code",
   "execution_count": 6,
   "metadata": {},
   "outputs": [],
   "source": [
    "preprocess_tag = [text_prep(i) for i in df['Post']]\n",
    "df[\"preprocess_txt\"] = preprocess_tag"
   ]
  },
  {
   "cell_type": "code",
   "execution_count": 7,
   "metadata": {},
   "outputs": [],
   "source": [
    "df['total_len'] = df['preprocess_txt'].map(lambda x: len(x))"
   ]
  },
  {
   "cell_type": "code",
   "execution_count": 8,
   "metadata": {},
   "outputs": [],
   "source": [
    "file = open('negative-words.txt', 'r')\n",
    "neg_words = file.read().split()\n",
    "file = open('positive-words.txt', 'r')\n",
    "pos_words = file.read().split()"
   ]
  },
  {
   "cell_type": "code",
   "execution_count": 9,
   "metadata": {},
   "outputs": [],
   "source": [
    "num_pos = df['preprocess_txt'].map(lambda x: len([i for i in x if i in pos_words]))\n",
    "df['pos_count'] = num_pos\n",
    "num_neg = df['preprocess_txt'].map(lambda x: len([i for i in x if i in neg_words]))\n",
    "df['neg_count'] = num_neg"
   ]
  },
  {
   "cell_type": "code",
   "execution_count": 10,
   "metadata": {},
   "outputs": [],
   "source": [
    "#normalize the sentiments by dividing the result of +ve minus -ve by the total len of the post so that every sentiment of the post is standardized\n",
    "df['sentiment'] = round((df['pos_count'] - df['neg_count']) / df['total_len'], 2)"
   ]
  },
  {
   "cell_type": "code",
   "execution_count": 15,
   "metadata": {},
   "outputs": [
    {
     "data": {
      "text/plain": [
       "0      [proud, announce, team, recognition, people, c...\n",
       "1      [scdf, dell, innovation, lifesaver, innovation...\n",
       "2      [proud, announce, team, tagar, came, nd, place...\n",
       "3      [part, dell, technology, initiative, shaping, ...\n",
       "4      [internship, dell, technology, fun, enriching,...\n",
       "                             ...                        \n",
       "103    [bear, market, bear, market, able, tell, night...\n",
       "104    [sliet, place, completed, engineering, one, ol...\n",
       "105    [happy, announce, winning, team, second, year,...\n",
       "106    [past, week, posted, anything, colleague, frie...\n",
       "107    [entrepreneur, learn, next, young, tech, start...\n",
       "Name: preprocess_txt, Length: 108, dtype: object"
      ]
     },
     "execution_count": 15,
     "metadata": {},
     "output_type": "execute_result"
    }
   ],
   "source": [
    "posts = df['preprocess_txt']\n",
    "posts"
   ]
  },
  {
   "cell_type": "code",
   "execution_count": null,
   "metadata": {},
   "outputs": [],
   "source": [
    "#get top 10 most positive words\n",
    "pos_dict = {}\n",
    "for post in posts:\n",
    "    for words in post:\n",
    "        if words in pos_words:\n",
    "            if pos_dict[words] in pos_dict:\n",
    "                pos_dict[words] += 1\n",
    "            else:\n",
    "                pos_dict[words] = 1\n",
    "df = pd.DataFrame(pos_dict, columns = ['Words', 'Word Count'])"
   ]
  },
  {
   "cell_type": "code",
   "execution_count": 11,
   "metadata": {},
   "outputs": [],
   "source": [
    "df.to_csv('topten.csv')"
   ]
  },
  {
   "cell_type": "code",
   "execution_count": 12,
   "metadata": {},
   "outputs": [
    {
     "data": {
      "text/html": [
       "<div>\n",
       "<style scoped>\n",
       "    .dataframe tbody tr th:only-of-type {\n",
       "        vertical-align: middle;\n",
       "    }\n",
       "\n",
       "    .dataframe tbody tr th {\n",
       "        vertical-align: top;\n",
       "    }\n",
       "\n",
       "    .dataframe thead th {\n",
       "        text-align: right;\n",
       "    }\n",
       "</style>\n",
       "<table border=\"1\" class=\"dataframe\">\n",
       "  <thead>\n",
       "    <tr style=\"text-align: right;\">\n",
       "      <th></th>\n",
       "      <th>Post</th>\n",
       "      <th>preprocess_txt</th>\n",
       "      <th>total_len</th>\n",
       "      <th>pos_count</th>\n",
       "      <th>neg_count</th>\n",
       "      <th>sentiment</th>\n",
       "    </tr>\n",
       "  </thead>\n",
       "  <tbody>\n",
       "    <tr>\n",
       "      <th>0</th>\n",
       "      <td>Proud to announce that my team won the recogni...</td>\n",
       "      <td>[proud, announce, team, recognition, people, c...</td>\n",
       "      <td>15</td>\n",
       "      <td>1</td>\n",
       "      <td>0</td>\n",
       "      <td>0.07</td>\n",
       "    </tr>\n",
       "    <tr>\n",
       "      <th>1</th>\n",
       "      <td>In SCDF and Dell's Innovation Lifesavers' Inno...</td>\n",
       "      <td>[scdf, dell, innovation, lifesaver, innovation...</td>\n",
       "      <td>183</td>\n",
       "      <td>22</td>\n",
       "      <td>4</td>\n",
       "      <td>0.10</td>\n",
       "    </tr>\n",
       "    <tr>\n",
       "      <th>2</th>\n",
       "      <td>I am proud to announce that my TEAM TAGAR came...</td>\n",
       "      <td>[proud, announce, team, tagar, came, nd, place...</td>\n",
       "      <td>198</td>\n",
       "      <td>25</td>\n",
       "      <td>5</td>\n",
       "      <td>0.10</td>\n",
       "    </tr>\n",
       "    <tr>\n",
       "      <th>3</th>\n",
       "      <td>As part of Dell Technologies' initiatives in s...</td>\n",
       "      <td>[part, dell, technology, initiative, shaping, ...</td>\n",
       "      <td>128</td>\n",
       "      <td>9</td>\n",
       "      <td>2</td>\n",
       "      <td>0.05</td>\n",
       "    </tr>\n",
       "    <tr>\n",
       "      <th>4</th>\n",
       "      <td>My internship at Dell Technologies has been a ...</td>\n",
       "      <td>[internship, dell, technology, fun, enriching,...</td>\n",
       "      <td>43</td>\n",
       "      <td>8</td>\n",
       "      <td>1</td>\n",
       "      <td>0.16</td>\n",
       "    </tr>\n",
       "    <tr>\n",
       "      <th>...</th>\n",
       "      <td>...</td>\n",
       "      <td>...</td>\n",
       "      <td>...</td>\n",
       "      <td>...</td>\n",
       "      <td>...</td>\n",
       "      <td>...</td>\n",
       "    </tr>\n",
       "    <tr>\n",
       "      <th>103</th>\n",
       "      <td>Bear market? What bear market? You wouldn't be...</td>\n",
       "      <td>[bear, market, bear, market, able, tell, night...</td>\n",
       "      <td>201</td>\n",
       "      <td>12</td>\n",
       "      <td>2</td>\n",
       "      <td>0.05</td>\n",
       "    </tr>\n",
       "    <tr>\n",
       "      <th>104</th>\n",
       "      <td>SLIET The place where I Completed My Engineeri...</td>\n",
       "      <td>[sliet, place, completed, engineering, one, ol...</td>\n",
       "      <td>173</td>\n",
       "      <td>15</td>\n",
       "      <td>1</td>\n",
       "      <td>0.08</td>\n",
       "    </tr>\n",
       "    <tr>\n",
       "      <th>105</th>\n",
       "      <td>I`m so happy to announce Winning with my team ...</td>\n",
       "      <td>[happy, announce, winning, team, second, year,...</td>\n",
       "      <td>24</td>\n",
       "      <td>5</td>\n",
       "      <td>0</td>\n",
       "      <td>0.21</td>\n",
       "    </tr>\n",
       "    <tr>\n",
       "      <th>106</th>\n",
       "      <td>For the past few weeks, I have not posted anyt...</td>\n",
       "      <td>[past, week, posted, anything, colleague, frie...</td>\n",
       "      <td>148</td>\n",
       "      <td>12</td>\n",
       "      <td>2</td>\n",
       "      <td>0.07</td>\n",
       "    </tr>\n",
       "    <tr>\n",
       "      <th>107</th>\n",
       "      <td>Can entrepreneurs learn from the next young te...</td>\n",
       "      <td>[entrepreneur, learn, next, young, tech, start...</td>\n",
       "      <td>274</td>\n",
       "      <td>15</td>\n",
       "      <td>6</td>\n",
       "      <td>0.03</td>\n",
       "    </tr>\n",
       "  </tbody>\n",
       "</table>\n",
       "<p>108 rows × 6 columns</p>\n",
       "</div>"
      ],
      "text/plain": [
       "                                                  Post  \\\n",
       "0    Proud to announce that my team won the recogni...   \n",
       "1    In SCDF and Dell's Innovation Lifesavers' Inno...   \n",
       "2    I am proud to announce that my TEAM TAGAR came...   \n",
       "3    As part of Dell Technologies' initiatives in s...   \n",
       "4    My internship at Dell Technologies has been a ...   \n",
       "..                                                 ...   \n",
       "103  Bear market? What bear market? You wouldn't be...   \n",
       "104  SLIET The place where I Completed My Engineeri...   \n",
       "105  I`m so happy to announce Winning with my team ...   \n",
       "106  For the past few weeks, I have not posted anyt...   \n",
       "107  Can entrepreneurs learn from the next young te...   \n",
       "\n",
       "                                        preprocess_txt  total_len  pos_count  \\\n",
       "0    [proud, announce, team, recognition, people, c...         15          1   \n",
       "1    [scdf, dell, innovation, lifesaver, innovation...        183         22   \n",
       "2    [proud, announce, team, tagar, came, nd, place...        198         25   \n",
       "3    [part, dell, technology, initiative, shaping, ...        128          9   \n",
       "4    [internship, dell, technology, fun, enriching,...         43          8   \n",
       "..                                                 ...        ...        ...   \n",
       "103  [bear, market, bear, market, able, tell, night...        201         12   \n",
       "104  [sliet, place, completed, engineering, one, ol...        173         15   \n",
       "105  [happy, announce, winning, team, second, year,...         24          5   \n",
       "106  [past, week, posted, anything, colleague, frie...        148         12   \n",
       "107  [entrepreneur, learn, next, young, tech, start...        274         15   \n",
       "\n",
       "     neg_count  sentiment  \n",
       "0            0       0.07  \n",
       "1            4       0.10  \n",
       "2            5       0.10  \n",
       "3            2       0.05  \n",
       "4            1       0.16  \n",
       "..         ...        ...  \n",
       "103          2       0.05  \n",
       "104          1       0.08  \n",
       "105          0       0.21  \n",
       "106          2       0.07  \n",
       "107          6       0.03  \n",
       "\n",
       "[108 rows x 6 columns]"
      ]
     },
     "execution_count": 12,
     "metadata": {},
     "output_type": "execute_result"
    }
   ],
   "source": [
    "df"
   ]
  }
 ],
 "metadata": {
  "kernelspec": {
   "display_name": "Python 3.10.6 64-bit",
   "language": "python",
   "name": "python3"
  },
  "language_info": {
   "codemirror_mode": {
    "name": "ipython",
    "version": 3
   },
   "file_extension": ".py",
   "mimetype": "text/x-python",
   "name": "python",
   "nbconvert_exporter": "python",
   "pygments_lexer": "ipython3",
   "version": "3.10.6"
  },
  "orig_nbformat": 4,
  "vscode": {
   "interpreter": {
    "hash": "d200baa17359a87e61a27565414f94ebaac2390fa574b7650a1efb5cd2bad58c"
   }
  }
 },
 "nbformat": 4,
 "nbformat_minor": 2
}
