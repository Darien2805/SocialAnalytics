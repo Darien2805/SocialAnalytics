{
 "cells": [
  {
   "cell_type": "code",
   "execution_count": null,
   "metadata": {},
   "outputs": [],
   "source": [
    "http://www.facebook.com/groups/sghackathons/"
   ]
  },
  {
   "cell_type": "code",
   "execution_count": 1,
   "metadata": {},
   "outputs": [],
   "source": [
    "from selenium import webdriver\n",
    "from selenium.webdriver.chrome.options import Options\n",
    "from selenium.webdriver.chrome.service import Service\n",
    "from selenium.webdriver.common.by import By\n",
    "from webdriver_manager.chrome import ChromeDriverManager\n",
    "\n",
    "import sys\n",
    "import csv\n",
    "import time"
   ]
  },
  {
   "cell_type": "code",
   "execution_count": 2,
   "metadata": {},
   "outputs": [],
   "source": [
    "# import the webdriver\n",
    "chrome_options = Options()\n",
    "chrome_options.headless = False\n",
    "chrome_options.add_argument(\"start-maximized\")\n",
    "chrome_options.add_experimental_option(\"excludeSwitches\", ['enable-automation']);"
   ]
  },
  {
   "cell_type": "code",
   "execution_count": 3,
   "metadata": {},
   "outputs": [],
   "source": [
    "# default path to file to store data\n",
    "path_to_file = \"./Facebook.csv\"\n",
    "# open the file to save the review\n",
    "csvFile = open(path_to_file, 'w', encoding=\"utf-8\")\n",
    "fieldnames = ['Feed', 'Likes']\n",
    "writer = csv.DictWriter(csvFile, fieldnames=fieldnames)\n",
    "writer.writeheader()\n",
    "\n",
    "csvWriter = csv.writer(csvFile)"
   ]
  },
  {
   "cell_type": "markdown",
   "metadata": {},
   "source": [
    "# Scraping"
   ]
  },
  {
   "cell_type": "code",
   "execution_count": 10,
   "metadata": {},
   "outputs": [
    {
     "name": "stdout",
     "output_type": "stream",
     "text": [
      "1\n",
      "Activity:  Computhink Kids SG\n",
      "Likes: 0\n",
      "=============================\n",
      "\n",
      "end\n"
     ]
    }
   ],
   "source": [
    "browser = webdriver.Chrome(service=Service(ChromeDriverManager().install()), options=chrome_options)\n",
    "url = \"http://www.facebook.com/groups/sghackathons/\"\n",
    "browser.get(url)\n",
    "time.sleep(1)\n",
    "\n",
    "SCROLL_PAUSE_TIME = 2\n",
    "\n",
    "# Get scroll height \n",
    "last_height = browser.execute_script(\"return document.body.scrollHeight\")\n",
    "while True:\n",
    "    # Scroll down to bottom\n",
    "    browser.execute_script(\"window.scrollTo(0,document.body.scrollHeight);\")\n",
    "    # Wait to load page\n",
    "    time.sleep(SCROLL_PAUSE_TIME)\n",
    "\n",
    "    # Calculate new scroll height and compare with last scroll height\n",
    "    new_height = browser.execute_script(\"return document.body.scrollHeight\")\n",
    "    if new_height == last_height:\n",
    "        break\n",
    "    last_height = new_height\n",
    "\n",
    "store=[]\n",
    "\n",
    "    # expand the review \n",
    "    #time.sleep(2)\n",
    "container = browser.find_elements(By.XPATH, \"//div[contains(@class,'x1ja2u2z xh8yej3 x1n2onr6 x1yztbdb')]\")\n",
    "print(len(container))\n",
    "for j in range(len(container)):\n",
    "    #feed = container[j].find_elements(By.XPATH, \".//span[contains(@class, 'x1jx94hy x8cjs6t x1ch86jh x80vd3b xckqwgs x1lq5wgf xgqcy7u x30kzoy x9jhf4c x13fuv20 xu3j5b3 x1q0q8m5 x26u7qi x178xt8z xm81vs4 xso031l xy80clv xq8finb x16n37ib'])]\").text\n",
    "    #author = container[j].find_elements(By.XPATH, \"//strong[contains(@class,'')]\")\n",
    "    feed = container[j].find_element(By.XPATH, \".//span[contains(@class,'x193iq5w xeuugli x13faqbe x1vvkbs xlh3980 xvmahel x1n0sxbx x1lliihq x1s928wv xhkezso x1gmr53x x1cpjm7i x1fgarty x1943h6x x4zkp8e x3x7a5m x6prxxf xvq8zen xo1l8bm xzsf02u')]\").text\n",
    "    '''\n",
    "    try:\n",
    "        feed = container[j].find_element(By.XPATH, \".//span[contains(@class,'x193iq5w xeuugli x13faqbe x1vvkbs xlh3980 xvmahel x1n0sxbx x1lliihq x1s928wv xhkezso x1gmr53x x1cpjm7i x1fgarty x1943h6x x4zkp8e x3x7a5m x6prxxf xvq8zen xo1l8bm xzsf02u')]\").text\n",
    "\n",
    "    except:\n",
    "        feed = container[j].find_element(By.XPATH, \".//div[contains(@class,'x1iorvi4 x1pi30zi x1l90r2v x1swvt13')]\").text\n",
    "\n",
    "    '''\n",
    "    try:\n",
    "        (container[j].find_element(By.XPATH, \".//span[contains(@class,'x16hj40l')]\"))\n",
    "        likes =  int(container[j].find_element(By.XPATH, \".//span[contains(@class,'x16hj40l')]\").text)\n",
    "\n",
    "    except:\n",
    "        likes = 0\n",
    "\n",
    "    temp_dict = {}\n",
    "    temp_dict['Activity'] = feed\n",
    "    temp_dict['Likes'] = likes\n",
    "\n",
    "    store.append(temp_dict)\n",
    "\n",
    "    print(\"Activity: \",feed)\n",
    "    print(\"Likes:\", likes)\n",
    "    print(\"=============================\\n\")\n",
    "    #csvWriter.writerow([feed, likes])\n",
    "    #csvFile.flush()\n",
    "\n",
    "#print(\"Scraped page \" + str(i) + \" of \" + str(num_page)) \n",
    "    \n",
    "    # Go to next page            \n",
    "    #browser.find_element(By.XPATH, './/a[@class=\"ui_button nav next primary \"]').click()\n",
    "\n",
    "browser.quit()\n",
    "print('end')\n",
    "csvFile.close()"
   ]
  },
  {
   "cell_type": "code",
   "execution_count": 7,
   "metadata": {},
   "outputs": [],
   "source": [
    "browser.quit()"
   ]
  },
  {
   "cell_type": "code",
   "execution_count": 8,
   "metadata": {},
   "outputs": [
    {
     "name": "stderr",
     "output_type": "stream",
     "text": [
      "/var/folders/2n/yj7152_111l7b3hbblxv9pjc0000gn/T/ipykernel_58025/2949717909.py:3: DeprecationWarning: Passing transport options in the API method is deprecated. Use 'Elasticsearch.options()' instead.\n",
      "  es.indices.delete(index='facebook', ignore=[400,404])\n",
      "/var/folders/2n/yj7152_111l7b3hbblxv9pjc0000gn/T/ipykernel_58025/2949717909.py:3: ElasticsearchWarning: Elasticsearch built-in security features are not enabled. Without authentication, your cluster could be accessible to anyone. See https://www.elastic.co/guide/en/elasticsearch/reference/7.17/security-minimal-setup.html to enable security.\n",
      "  es.indices.delete(index='facebook', ignore=[400,404])\n",
      "/var/folders/2n/yj7152_111l7b3hbblxv9pjc0000gn/T/ipykernel_58025/2949717909.py:4: DeprecationWarning: The 'body' parameter is deprecated and will be removed in a future version. Instead use individual parameters.\n",
      "  es.indices.create(index='facebook', body={\n",
      "/var/folders/2n/yj7152_111l7b3hbblxv9pjc0000gn/T/ipykernel_58025/2949717909.py:4: ElasticsearchWarning: Elasticsearch built-in security features are not enabled. Without authentication, your cluster could be accessible to anyone. See https://www.elastic.co/guide/en/elasticsearch/reference/7.17/security-minimal-setup.html to enable security.\n",
      "  es.indices.create(index='facebook', body={\n"
     ]
    }
   ],
   "source": [
    "from elasticsearch import Elasticsearch\n",
    "es = Elasticsearch('http://localhost:9200')\n",
    "es.indices.delete(index='facebook', ignore=[400,404])\n",
    "es.indices.create(index='facebook', body={\n",
    "    \"mappings\":{\n",
    "        \"properties\":{\n",
    "            \"activity\":{\n",
    "                \"type\":\"text\",\n",
    "                \"fields\": {\n",
    "                    \"keyword\": {\n",
    "                        \"type\": \"keyword\",\n",
    "                    }\n",
    "                }\n",
    "            },\n",
    "            \"likes\":{\n",
    "                \"type\":\"text\"\n",
    "            }\n",
    "            \n",
    "        }\n",
    "    }\n",
    "})\n",
    "\n",
    "# insert keywordbags into elasticsearch\n",
    "elastic_id = 1\n",
    "for i in store:\n",
    "    print(i['hackathon'])\n",
    "    es.index(index='sandbox', id=elastic_id, body=i)\n",
    "    elastic_id += 1"
   ]
  },
  {
   "cell_type": "code",
   "execution_count": null,
   "metadata": {},
   "outputs": [],
   "source": []
  }
 ],
 "metadata": {
  "kernelspec": {
   "display_name": "Python 3 (ipykernel)",
   "language": "python",
   "name": "python3"
  },
  "language_info": {
   "codemirror_mode": {
    "name": "ipython",
    "version": 3
   },
   "file_extension": ".py",
   "mimetype": "text/x-python",
   "name": "python",
   "nbconvert_exporter": "python",
   "pygments_lexer": "ipython3",
   "version": "3.9.12"
  },
  "vscode": {
   "interpreter": {
    "hash": "b005be7c5a680b96068f83f4e85fb5cdab847e1a86c52393599f57e3a5bbc963"
   }
  }
 },
 "nbformat": 4,
 "nbformat_minor": 4
}
